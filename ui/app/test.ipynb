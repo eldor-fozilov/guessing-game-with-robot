{
 "cells": [
  {
   "cell_type": "code",
   "execution_count": 8,
   "metadata": {},
   "outputs": [
    {
     "name": "stdout",
     "output_type": "stream",
     "text": [
      "사용 가능한 카메라 인덱스 확인 중...\n",
      "카메라 인덱스 0 사용 가능\n",
      "카메라 인덱스 1 사용 불가능\n",
      "카메라 인덱스 2 사용 불가능\n",
      "카메라 인덱스 3 사용 불가능\n",
      "카메라 인덱스 4 사용 불가능\n",
      "카메라 인덱스 5 사용 불가능\n",
      "카메라 인덱스 6 사용 불가능\n",
      "카메라 인덱스 7 사용 불가능\n",
      "카메라 인덱스 8 사용 불가능\n",
      "카메라 인덱스 9 사용 불가능\n",
      "카메라 인덱스 10 사용 불가능\n",
      "카메라 인덱스 11 사용 불가능\n",
      "카메라 인덱스 12 사용 불가능\n",
      "카메라 인덱스 13 사용 불가능\n",
      "카메라 인덱스 14 사용 불가능\n",
      "카메라 인덱스 15 사용 불가능\n",
      "카메라 인덱스 16 사용 불가능\n",
      "카메라 인덱스 17 사용 불가능\n",
      "카메라 인덱스 18 사용 불가능\n",
      "카메라 인덱스 19 사용 불가능\n",
      "카메라 인덱스 20 사용 불가능\n",
      "카메라 인덱스 21 사용 불가능\n",
      "카메라 인덱스 22 사용 불가능\n",
      "카메라 인덱스 23 사용 불가능\n",
      "카메라 인덱스 24 사용 불가능\n",
      "카메라 인덱스 25 사용 불가능\n",
      "카메라 인덱스 26 사용 불가능\n",
      "카메라 인덱스 27 사용 불가능\n",
      "카메라 인덱스 28 사용 불가능\n",
      "카메라 인덱스 29 사용 불가능\n"
     ]
    }
   ],
   "source": [
    "import cv2\n",
    "\n",
    "print(\"사용 가능한 카메라 인덱스 확인 중...\")\n",
    "for index in range(30):  # 최대 10개의 카메라 인덱스를 확인\n",
    "    cap = cv2.VideoCapture(index)\n",
    "    if cap.isOpened():\n",
    "        print(f\"카메라 인덱스 {index} 사용 가능\")\n",
    "        cap.release()\n",
    "    else:\n",
    "        print(f\"카메라 인덱스 {index} 사용 불가능\")\n"
   ]
  },
  {
   "cell_type": "code",
   "execution_count": 1,
   "metadata": {},
   "outputs": [
    {
     "name": "stdout",
     "output_type": "stream",
     "text": [
      "사용 가능한 카메라를 탐색 중...\n",
      "사용 가능한 카메라 인덱스: [0]\n",
      "카메라 0 스트리밍 중... (종료하려면 'q'를 누르세요)\n"
     ]
    },
    {
     "ename": "KeyboardInterrupt",
     "evalue": "",
     "output_type": "error",
     "traceback": [
      "\u001b[1;31m---------------------------------------------------------------------------\u001b[0m",
      "\u001b[1;31mKeyboardInterrupt\u001b[0m                         Traceback (most recent call last)",
      "Cell \u001b[1;32mIn[1], line 60\u001b[0m\n\u001b[0;32m     57\u001b[0m camera_index \u001b[38;5;241m=\u001b[39m \u001b[38;5;28mint\u001b[39m(\u001b[38;5;28minput\u001b[39m(\u001b[38;5;124mf\u001b[39m\u001b[38;5;124m\"\u001b[39m\u001b[38;5;124m사용할 카메라를 선택하세요 (\u001b[39m\u001b[38;5;132;01m{\u001b[39;00mcameras\u001b[38;5;132;01m}\u001b[39;00m\u001b[38;5;124m 중 하나): \u001b[39m\u001b[38;5;124m\"\u001b[39m))\n\u001b[0;32m     59\u001b[0m \u001b[38;5;66;03m# 3. 선택된 카메라로 스트리밍 테스트\u001b[39;00m\n\u001b[1;32m---> 60\u001b[0m test_camera_stream(camera_index)\n",
      "Cell \u001b[1;32mIn[1], line 42\u001b[0m, in \u001b[0;36mtest_camera_stream\u001b[1;34m(camera_index)\u001b[0m\n\u001b[0;32m     39\u001b[0m     cv2\u001b[38;5;241m.\u001b[39mimshow(\u001b[38;5;124mf\u001b[39m\u001b[38;5;124m\"\u001b[39m\u001b[38;5;124mCamera \u001b[39m\u001b[38;5;132;01m{\u001b[39;00mcamera_index\u001b[38;5;132;01m}\u001b[39;00m\u001b[38;5;124m\"\u001b[39m, frame)\n\u001b[0;32m     41\u001b[0m     \u001b[38;5;66;03m# 'q' 키를 누르면 종료\u001b[39;00m\n\u001b[1;32m---> 42\u001b[0m     \u001b[38;5;28;01mif\u001b[39;00m cv2\u001b[38;5;241m.\u001b[39mwaitKey(\u001b[38;5;241m1\u001b[39m) \u001b[38;5;241m&\u001b[39m \u001b[38;5;241m0xFF\u001b[39m \u001b[38;5;241m==\u001b[39m \u001b[38;5;28mord\u001b[39m(\u001b[38;5;124m'\u001b[39m\u001b[38;5;124mq\u001b[39m\u001b[38;5;124m'\u001b[39m):\n\u001b[0;32m     43\u001b[0m         \u001b[38;5;28;01mbreak\u001b[39;00m\n\u001b[0;32m     45\u001b[0m cap\u001b[38;5;241m.\u001b[39mrelease()\n",
      "\u001b[1;31mKeyboardInterrupt\u001b[0m: "
     ]
    }
   ],
   "source": [
    "import cv2\n",
    "from concurrent.futures import ThreadPoolExecutor\n",
    "\n",
    "def check_camera(index):\n",
    "    \"\"\"카메라 인덱스를 확인하여 사용할 수 있는지 반환\"\"\"\n",
    "    cap = cv2.VideoCapture(index)\n",
    "    if cap.isOpened():\n",
    "        cap.release()\n",
    "        return index\n",
    "    return None\n",
    "\n",
    "def list_cameras():\n",
    "    \"\"\"사용 가능한 카메라 리스트 반환\"\"\"\n",
    "    print(\"사용 가능한 카메라를 탐색 중...\")\n",
    "    available_cameras = []\n",
    "    max_camera_index = 10  # 최대 확인할 카메라 인덱스\n",
    "    with ThreadPoolExecutor(max_workers=4) as executor:\n",
    "        results = executor.map(check_camera, range(max_camera_index))\n",
    "    for result in results:\n",
    "        if result is not None:\n",
    "            available_cameras.append(result)\n",
    "    return available_cameras\n",
    "\n",
    "def test_camera_stream(camera_index):\n",
    "    \"\"\"선택된 카메라로 스트리밍 테스트\"\"\"\n",
    "    cap = cv2.VideoCapture(camera_index)\n",
    "    if not cap.isOpened():\n",
    "        print(f\"카메라 {camera_index}를 열 수 없습니다.\")\n",
    "        return\n",
    "\n",
    "    print(f\"카메라 {camera_index} 스트리밍 중... (종료하려면 'q'를 누르세요)\")\n",
    "    while True:\n",
    "        ret, frame = cap.read()\n",
    "        if not ret:\n",
    "            print(\"프레임을 읽을 수 없습니다.\")\n",
    "            break\n",
    "\n",
    "        # 화면에 프레임 표시\n",
    "        cv2.imshow(f\"Camera {camera_index}\", frame)\n",
    "\n",
    "        # 'q' 키를 누르면 종료\n",
    "        if cv2.waitKey(1) & 0xFF == ord('q'):\n",
    "            break\n",
    "\n",
    "    cap.release()\n",
    "    cv2.destroyAllWindows()\n",
    "\n",
    "if __name__ == \"__main__\":\n",
    "    # 1. 사용 가능한 카메라 탐색\n",
    "    cameras = list_cameras()\n",
    "    if not cameras:\n",
    "        print(\"사용 가능한 카메라가 없습니다.\")\n",
    "    else:\n",
    "        print(f\"사용 가능한 카메라 인덱스: {cameras}\")\n",
    "\n",
    "        # 2. 사용자로부터 카메라 선택\n",
    "        camera_index = int(input(f\"사용할 카메라를 선택하세요 ({cameras} 중 하나): \"))\n",
    "\n",
    "        # 3. 선택된 카메라로 스트리밍 테스트\n",
    "        test_camera_stream(camera_index)\n"
   ]
  }
 ],
 "metadata": {
  "kernelspec": {
   "display_name": "base",
   "language": "python",
   "name": "python3"
  },
  "language_info": {
   "codemirror_mode": {
    "name": "ipython",
    "version": 3
   },
   "file_extension": ".py",
   "mimetype": "text/x-python",
   "name": "python",
   "nbconvert_exporter": "python",
   "pygments_lexer": "ipython3",
   "version": "3.11.7"
  }
 },
 "nbformat": 4,
 "nbformat_minor": 2
}
