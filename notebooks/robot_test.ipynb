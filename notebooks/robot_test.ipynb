{
 "cells": [
  {
   "cell_type": "markdown",
   "metadata": {},
   "source": [
    "### Define the follower arm, connect, read the position"
   ]
  },
  {
   "cell_type": "code",
   "execution_count": 1,
   "metadata": {},
   "outputs": [
    {
     "name": "stdout",
     "output_type": "stream",
     "text": [
      "[2051 3091 3055 3084 3096 1993]\n"
     ]
    }
   ],
   "source": [
    "from lerobot.common.robot_devices.motors.dynamixel import DynamixelMotorsBus\n",
    "import numpy as np\n",
    "\n",
    "follower_port = \"/dev/ttyACM0\"\n",
    "\n",
    "follower_arm = DynamixelMotorsBus(\n",
    "    port=follower_port,\n",
    "    motors={\n",
    "        # name: (index, model)\n",
    "        \"shoulder_pan\": (1, \"xl430-w250\"),\n",
    "        \"shoulder_lift\": (2, \"xl430-w250\"),\n",
    "        \"elbow_flex\": (3, \"xl330-m288\"),\n",
    "        \"wrist_flex\": (4, \"xl330-m288\"),\n",
    "        \"wrist_roll\": (5, \"xl330-m288\"),\n",
    "        \"gripper\": (6, \"xl330-m288\"),\n",
    "    },\n",
    ")\n",
    "\n",
    "follower_arm.connect()\n",
    "follower_pos = follower_arm.read(\"Present_Position\")\n",
    "\n",
    "print(follower_pos)"
   ]
  },
  {
   "cell_type": "markdown",
   "metadata": {},
   "source": [
    "### Turn on the torque"
   ]
  },
  {
   "cell_type": "code",
   "execution_count": null,
   "metadata": {},
   "outputs": [],
   "source": [
    "from lerobot.common.robot_devices.motors.dynamixel import TorqueMode\n",
    "\n",
    "follower_arm.write(\"Torque_Enable\", TorqueMode.ENABLED.value)"
   ]
  },
  {
   "cell_type": "code",
   "execution_count": null,
   "metadata": {},
   "outputs": [],
   "source": [
    "import time\n",
    "\n",
    "# Get the current position\n",
    "position = follower_arm.read(\"Present_Position\")\n",
    "\n",
    "# Update first motor (shoulder_pan) position by +10 steps\n",
    "position[0] += 10\n",
    "follower_arm.write(\"Goal_Position\", position)\n",
    "\n",
    "time.sleep(2.0)\n",
    "\n",
    "# Update all motors position by 50 steps\n",
    "position += 50\n",
    "follower_arm.write(\"Goal_Position\", position)\n",
    "\n",
    "time.sleep(2.0)\n",
    "\n",
    "# Update gripper by 50 steps\n",
    "position[-1] += 50\n",
    "follower_arm.write(\"Goal_Position\", position[-1], \"gripper\")\n",
    "\n",
    "time.sleep(2.0)\n"
   ]
  },
  {
   "cell_type": "code",
   "execution_count": null,
   "metadata": {},
   "outputs": [],
   "source": [
    "follower_arm.write(\"Torque_Enable\", TorqueMode.DISABLED.value)"
   ]
  },
  {
   "cell_type": "markdown",
   "metadata": {},
   "source": [
    "### Do the Calibration"
   ]
  },
  {
   "cell_type": "code",
   "execution_count": 3,
   "metadata": {},
   "outputs": [],
   "source": [
    "from lerobot.common.robot_devices.robots.utils import Robot\n",
    "\n",
    "def safe_disconnect(func):\n",
    "    # TODO(aliberts): Allow to pass custom exceptions\n",
    "    # (e.g. ThreadServiceExit, KeyboardInterrupt, SystemExit, UnpluggedError, DynamixelCommError)\n",
    "    def wrapper(robot, *args, **kwargs):\n",
    "        try:\n",
    "            return func(robot, *args, **kwargs)\n",
    "        except Exception as e:\n",
    "            if robot.is_connected:\n",
    "                robot.disconnect()\n",
    "            raise e\n",
    "\n",
    "    return wrapper\n",
    "\n",
    "@safe_disconnect\n",
    "def calibrate(robot: Robot, arms: list[str] | None):\n",
    "    # TODO(aliberts): move this code in robots' classes\n",
    "    if robot.robot_type.startswith(\"stretch\"):\n",
    "        if not robot.is_connected:\n",
    "            robot.connect()\n",
    "        if not robot.is_homed():\n",
    "            robot.home()\n",
    "        return\n",
    "\n",
    "    if arms is None:\n",
    "        arms = robot.available_arms\n",
    "\n",
    "    unknown_arms = [arm_id for arm_id in arms if arm_id not in robot.available_arms]\n",
    "    available_arms_str = \" \".join(robot.available_arms)\n",
    "    unknown_arms_str = \" \".join(unknown_arms)\n",
    "\n",
    "    if arms is None or len(arms) == 0:\n",
    "        raise ValueError(\n",
    "            \"No arm provided. Use `--arms` as argument with one or more available arms.\\n\"\n",
    "            f\"For instance, to recalibrate all arms add: `--arms {available_arms_str}`\"\n",
    "        )\n",
    "\n",
    "    if len(unknown_arms) > 0:\n",
    "        raise ValueError(\n",
    "            f\"Unknown arms provided ('{unknown_arms_str}'). Available arms are `{available_arms_str}`.\"\n",
    "        )\n",
    "\n",
    "    for arm_id in arms:\n",
    "        arm_calib_path = robot.calibration_dir / f\"{arm_id}.json\"\n",
    "        if arm_calib_path.exists():\n",
    "            print(f\"Removing '{arm_calib_path}'\")\n",
    "            arm_calib_path.unlink()\n",
    "        else:\n",
    "            print(f\"Calibration file not found '{arm_calib_path}'\")\n",
    "\n",
    "    if robot.is_connected:\n",
    "        robot.disconnect()\n",
    "\n",
    "    # Calling `connect` automatically runs calibration\n",
    "    # when the calibration file is missing\n",
    "    robot.connect()\n",
    "    robot.disconnect()\n",
    "    print(\"Calibration is done! You can now teleoperate and record datasets!\")"
   ]
  },
  {
   "cell_type": "code",
   "execution_count": 4,
   "metadata": {},
   "outputs": [
    {
     "name": "stdout",
     "output_type": "stream",
     "text": [
      "Removing '.cache/calibration/koch/main_follower.json'\n",
      "Connecting main follower arm.\n",
      "Missing calibration file '.cache/calibration/koch/main_follower.json'\n",
      "\n",
      "Running calibration of koch main follower...\n",
      "\n",
      "Move arm to zero position\n",
      "See: https://raw.githubusercontent.com/huggingface/lerobot/main/media/koch/follower_zero.webp\n",
      "\n",
      "Move arm to rotated target position\n",
      "See: https://raw.githubusercontent.com/huggingface/lerobot/main/media/koch/follower_rotated.webp\n",
      "\n",
      "Move arm to rest position\n",
      "See: https://raw.githubusercontent.com/huggingface/lerobot/main/media/koch/follower_rest.webp\n",
      "\n",
      "Calibration is done! Saving calibration file '.cache/calibration/koch/main_follower.json'\n",
      "Activating torque on main follower arm.\n",
      "Calibration is done! You can now teleoperate and record datasets!\n"
     ]
    }
   ],
   "source": [
    "from lerobot.common.utils.utils import init_hydra_config, log_say\n",
    "from lerobot.common.robot_devices.robots.factory import make_robot\n",
    "\n",
    "# define the robot with YAML\n",
    "\n",
    "robot_path = \"lerobot/configs/robot/koch.yaml\"\n",
    "robot_cfg = init_hydra_config(robot_path)\n",
    "robot = make_robot(robot_cfg)\n",
    "\n",
    "calibrate(robot, [\"main_follower\"])"
   ]
  },
  {
   "cell_type": "code",
   "execution_count": 10,
   "metadata": {},
   "outputs": [],
   "source": [
    "from lerobot.common.robot_devices.motors.dynamixel import TorqueMode\n",
    "import time\n",
    "\n",
    "robot.follower_arms[\"main\"].write(\"Torque_Enable\", TorqueMode.DISABLED.value)\n",
    "\n",
    "# if not robot.is_connected:\n",
    "    # robot.connect()\n",
    "\n",
    "play_sounds = True\n",
    "\n",
    "all_poses = []\n",
    "while True:\n",
    "    robot.follower_arms[\"main\"].write(\"Torque_Enable\", TorqueMode.DISABLED.value)\n",
    "\n",
    "    voice = 'Please adjust the robot pose. Press \"s\" to turn on the stiffness. Press \"q\" to quit.'\n",
    "    log_say(voice, play_sounds)\n",
    "    command = input(voice)\n",
    "    \n",
    "    if command == \"s\":\n",
    "        while True:\n",
    "            robot.follower_arms[\"main\"].write(\"Torque_Enable\", TorqueMode.ENABLED.value)\n",
    "        \n",
    "            voice = 'If you want to save this pose, press \"y\" to save, \"n\" to re-adjust'\n",
    "            log_say(voice, play_sounds)\n",
    "            command = input(voice)\n",
    "\n",
    "            if command == \"y\":\n",
    "                curr_pos = robot.follower_arms[\"main\"].read(\"Present_Position\")\n",
    "                all_poses.append(curr_pos)\n",
    "\n",
    "                voice = \"pose is saved. stiffness will be turned off after few seconds\"\n",
    "                log_say(voice, play_sounds)\n",
    "                time.sleep(5)\n",
    "\n",
    "                robot.follower_arms[\"main\"].write(\"Torque_Enable\", TorqueMode.DISABLED.value)\n",
    "                break\n",
    "\n",
    "            elif command == \"n\":\n",
    "                voice = \"I will give you 10 seconds to re-adjust the pose. Please try after stiffness is off\"\n",
    "                log_say(voice, play_sounds)\n",
    "                time.sleep(5)\n",
    "                robot.follower_arms[\"main\"].write(\"Torque_Enable\", TorqueMode.DISABLED.value)\n",
    "                time.sleep(10)\n",
    "            \n",
    "            else:\n",
    "                continue\n",
    "\n",
    "    if command == \"q\":\n",
    "        voice = \"{} poses are saved. Please run below cell to replay. Stifeeness will be turn off after few seconds\".format(len(all_poses))\n",
    "        log_say(voice, play_sounds)\n",
    "        break\n",
    "\n",
    "time.sleep(5)\n",
    "robot.follower_arms[\"main\"].write(\"Torque_Enable\", TorqueMode.DISABLED.value)\n",
    "\n"
   ]
  },
  {
   "cell_type": "code",
   "execution_count": 37,
   "metadata": {},
   "outputs": [],
   "source": [
    "import numpy as np\n",
    "\n",
    "curr_pos = robot.follower_arms[\"main\"].read(\"Present_Position\")\n",
    "\n",
    "final_poses = [curr_pos] + all_poses\n",
    "\n",
    "stride = 80\n",
    "stride_poses = []\n",
    "for i in range(len(final_poses)-1):\n",
    "    stride_poses.append(np.linspace(final_poses[i], final_poses[i+1], stride+1)[:-1])\n",
    "stride_poses = np.concatenate(stride_poses, axis=0)\n"
   ]
  },
  {
   "cell_type": "code",
   "execution_count": null,
   "metadata": {},
   "outputs": [],
   "source": [
    "robot.follower_arms[\"main\"].write(\"Torque_Enable\", TorqueMode.ENABLED.value)\n",
    "\n",
    "time.sleep(5)\n",
    "    \n",
    "for i, p in enumerate(stride_poses):\n",
    "    robot.follower_arms[\"main\"].write(\"Goal_Position\", p)\n",
    "    if i == 1*stride:\n",
    "        log_say(\"Hello! I can hold it for you\", play_sounds)\n",
    "    if i == 4*stride:\n",
    "        log_say(\"HA. HA. HA\", play_sounds)\n",
    "    time.sleep(0.02)\n",
    "\n",
    "time.sleep(5)\n",
    "\n",
    "robot.follower_arms[\"main\"].write(\"Torque_Enable\", TorqueMode.DISABLED.value)\n"
   ]
  },
  {
   "cell_type": "code",
   "execution_count": 23,
   "metadata": {},
   "outputs": [],
   "source": [
    "robot.follower_arms[\"main\"].write(\"Torque_Enable\", TorqueMode.DISABLED.value)\n"
   ]
  }
 ],
 "metadata": {
  "kernelspec": {
   "display_name": "py310",
   "language": "python",
   "name": "python3"
  },
  "language_info": {
   "codemirror_mode": {
    "name": "ipython",
    "version": 3
   },
   "file_extension": ".py",
   "mimetype": "text/x-python",
   "name": "python",
   "nbconvert_exporter": "python",
   "pygments_lexer": "ipython3",
   "version": "3.10.13"
  }
 },
 "nbformat": 4,
 "nbformat_minor": 2
}
